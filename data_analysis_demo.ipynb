## 📋 分析结论与商业洞察

### 🎯 关键发现

1. **季节性趋势明显**
   - 11-1月份销售量显著增加（节假日效应）
   - 夏季月份相对低迷
   - 建议在旺季前增加库存准备

2. **产品类别表现**
   - 各产品类别销售量相对均衡
   - 可以考虑重点推广表现较弱的类别
   - 交叉销售机会较大

3. **数据质量**
   - 无缺失值，数据完整性良好
   - 销售量分布接近正态分布
   - 数据适合进一步的预测建模

### 🚀 业务建议

1. **库存管理**：根据季节性趋势调整库存策略
2. **营销策略**：在销售低谷期加大促销力度
3. **产品组合**：优化产品组合，平衡各类别表现
4. **预测模型**：基于历史数据建立销售预测模型

### 🔮 下一步分析方向

- [ ] 建立时间序列预测模型
- [ ] 进行客户细分分析
- [ ] 分析价格弹性
- [ ] 研究外部因素影响（天气、节假日等）

---

**分析完成时间**: 2025年1月  
**数据覆盖范围**: 365天销售数据  
**分析工具**: Python, Pandas, Matplotlib, Seaborn# 高级数据分析：相关性分析和热力图
print("🔍 高级数据分析")
print("=" * 50)

# 创建数值特征的相关性矩阵
df['day_of_year'] = df['date'].dt.dayofyear
df['weekday'] = df['date'].dt.weekday

# 计算每个产品的数值编码
df['product_code'] = df['product'].astype('category').cat.codes

# 选择数值列进行相关性分析
numeric_cols = ['sales', 'revenue', 'day_of_year', 'weekday', 'month', 'product_code']
correlation_matrix = df[numeric_cols].corr()

# 创建热力图
plt.figure(figsize=(10, 8))
sns.heatmap(correlation_matrix, 
            annot=True, 
            cmap='RdYlBu_r', 
            center=0,
            square=True,
            linewidths=0.5)
plt.title('🔥 特征相关性热力图')
plt.tight_layout()
plt.show()

# 统计洞察
print("\n💡 关键洞察:")
print(f"1. 销售量与收入的相关系数: {correlation_matrix.loc['sales', 'revenue']:.3f}")
print(f"2. 销售量与月份的相关系数: {correlation_matrix.loc['sales', 'month']:.3f}")
print(f"3. 销售量与星期的相关系数: {correlation_matrix.loc['sales', 'weekday']:.3f}")

# 找出销售量最高和最低的日期
max_sales_date = df_daily.loc[df_daily['sales'].idxmax()]
min_sales_date = df_daily.loc[df_daily['sales'].idxmin()]

print(f"\n📊 极值分析:")
print(f"销售量最高日期: {max_sales_date['date'].strftime('%Y-%m-%d')}, 销售量: {max_sales_date['sales']}")
print(f"销售量最低日期: {min_sales_date['date'].strftime('%Y-%m-%d')}, 销售量: {min_sales_date['sales']}")

# 计算增长率
df_daily['sales_growth'] = df_daily['sales'].pct_change() * 100
avg_growth = df_daily['sales_growth'].mean()
print(f"平均日增长率: {avg_growth:.2f}%")# 数据可视化
fig, axes = plt.subplots(2, 2, figsize=(15, 12))
fig.suptitle('📊 销售数据可视化分析', fontsize=16, fontweight='bold')

# 1. 时间序列趋势图
df_daily = df.groupby('date')['sales'].sum().reset_index()
axes[0, 0].plot(df_daily['date'], df_daily['sales'], linewidth=2, color='#2E86C1')
axes[0, 0].set_title('📈 日销售量趋势')
axes[0, 0].set_xlabel('日期')
axes[0, 0].set_ylabel('销售量')
axes[0, 0].grid(True, alpha=0.3)

# 2. 产品类别销售对比
product_sales = df.groupby('product')['sales'].sum().sort_values(ascending=True)
axes[0, 1].barh(product_sales.index, product_sales.values, color='#E74C3C')
axes[0, 1].set_title('🏷️ 各产品类别总销售量')
axes[0, 1].set_xlabel('销售量')

# 3. 月度销售趋势
df['month'] = df['date'].dt.month
monthly_sales = df.groupby('month')['sales'].sum()
months = ['1月', '2月', '3月', '4月', '5月', '6月', '7月', '8月', '9月', '10月', '11月', '12月']
axes[1, 0].bar(range(1, 13), monthly_sales.values, color='#28B463')
axes[1, 0].set_title('📅 月度销售趋势')
axes[1, 0].set_xlabel('月份')
axes[1, 0].set_ylabel('销售量')
axes[1, 0].set_xticks(range(1, 13))
axes[1, 0].set_xticklabels([months[i] for i in monthly_sales.index - 1], rotation=45)

# 4. 销售量分布直方图
axes[1, 1].hist(df['sales'], bins=30, alpha=0.7, color='#AF7AC5', edgecolor='black')
axes[1, 1].set_title('📊 销售量分布')
axes[1, 1].set_xlabel('销售量')
axes[1, 1].set_ylabel('频次')
axes[1, 1].grid(True, alpha=0.3)

plt.tight_layout()
plt.show()

print("✨ 数据可视化完成！")# 数据基本统计分析
print("📊 数据基本统计信息")
print("=" * 50)

# 基本信息
print(f"总记录数: {len(df):,}")
print(f"缺失值: {df.isnull().sum().sum()}")
print(f"数据类型:")
print(df.dtypes)

print("\n📈 销售统计:")
print(f"总销售量: {df['sales'].sum():,}")
print(f"平均日销售量: {df['sales'].mean():.2f}")
print(f"销售量中位数: {df['sales'].median():.2f}")
print(f"销售量标准差: {df['sales'].std():.2f}")

print(f"\n💰 收入统计:")
print(f"总收入: ${df['revenue'].sum():,.2f}")
print(f"平均日收入: ${df['revenue'].mean():.2f}")

# 按产品类别分析
print(f"\n🏷️ 按产品类别分析:")
category_stats = df.groupby('product').agg({
    'sales': ['sum', 'mean', 'std'],
    'revenue': ['sum', 'mean']
}).round(2)

category_stats.columns = ['总销售量', '平均销售量', '销售量标准差', '总收入', '平均收入']
print(category_stats)# 生成模拟销售数据
np.random.seed(42)  # 设置随机种子以确保结果可重复

# 创建日期范围（过去12个月）
start_date = datetime.now() - timedelta(days=365)
dates = pd.date_range(start=start_date, periods=365, freq='D')

# 产品类别
products = ['电子产品', '服装', '家居用品', '图书', '体育用品']
categories = ['Electronics', 'Clothing', 'Home', 'Books', 'Sports']

# 生成销售数据
data = []
for date in dates:
    for i, product in enumerate(products):
        # 添加季节性和随机性
        base_sales = 100 + 50 * np.sin(2 * np.pi * date.dayofyear / 365)
        seasonal_factor = 1.2 if date.month in [11, 12, 1] else 1.0  # 节假日销售增长
        daily_sales = int(base_sales * seasonal_factor * np.random.uniform(0.7, 1.3))
        
        data.append({
            'date': date,
            'product': product,
            'category': categories[i],
            'sales': daily_sales,
            'revenue': daily_sales * np.random.uniform(10, 100)  # 随机价格
        })

# 创建DataFrame
df = pd.DataFrame(data)

print("🎲 模拟数据生成完成！")
print(f"数据形状: {df.shape}")
print(f"日期范围: {df['date'].min().strftime('%Y-%m-%d')} 到 {df['date'].max().strftime('%Y-%m-%d')}")
print(f"产品类别: {', '.join(df['product'].unique())}")
print("\n前5行数据预览:")
df.head()# 导入必要的库
import pandas as pd
import numpy as np
import matplotlib.pyplot as plt
import seaborn as sns
from datetime import datetime, timedelta
import warnings

# 设置图表样式
plt.style.use('seaborn-v0_8')
sns.set_palette("husl")
warnings.filterwarnings('ignore')

# 设置中文字体支持
plt.rcParams['font.sans-serif'] = ['SimHei', 'DejaVu Sans']
plt.rcParams['axes.unicode_minus'] = False

print("📚 库导入完成！")
print(f"Pandas版本: {pd.__version__}")
print(f"NumPy版本: {np.__version__}")
print(f"Matplotlib版本: {plt.matplotlib.__version__}")# 📊 数据分析演示项目

## 🎯 项目目标
本notebook演示了完整的数据分析流程，包括：
- 数据生成和预处理
- 探索性数据分析
- 数据可视化
- 统计分析和洞察

## 📈 分析内容
我们将分析一个模拟的销售数据集，包含：
- 产品销售量
- 不同月份的趋势
- 产品类别分析
- 销售预测

---

**作者**: AI Assistant  
**创建时间**: 2025年1月  
**工具**: Python, Pandas, Matplotlib, Seaborn