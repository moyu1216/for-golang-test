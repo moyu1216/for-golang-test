# JSON数据处理演示
print("📄 JSON数据处理演示")
print("=" * 50)

# 将数据保存为JSON格式
json_filename = "sales_data.json"
with open(json_filename, 'w', encoding='utf-8') as f:
    json.dump(sales_data, f, ensure_ascii=False, indent=2)

print(f"✅ 数据已保存到 {json_filename}")

# 从JSON读取数据
with open(json_filename, 'r', encoding='utf-8') as f:
    loaded_data = json.load(f)

print(f"📖 从JSON加载了 {len(loaded_data)} 条记录")

# 创建汇总报告
summary_report = {
    "report_date": datetime.now().strftime("%Y-%m-%d %H:%M:%S"),
    "total_records": len(sales_data),
    "date_range": {
        "start": sales_data[0]['date'],
        "end": sales_data[-1]['date']
    },
    "products": list(products),
    "statistics": {
        "total_sales": sum(all_sales),
        "total_revenue": round(sum(all_revenue), 2),
        "average_sales": round(statistics.mean(all_sales), 2),
        "best_selling_day": best_day[0],
        "best_selling_day_sales": best_day[1]
    },
    "product_performance": product_totals
}

# 保存汇总报告
report_filename = "sales_summary.json"
with open(report_filename, 'w', encoding='utf-8') as f:
    json.dump(summary_report, f, ensure_ascii=False, indent=2)

print(f"📊 汇总报告已保存到 {report_filename}")

# 显示报告内容
print(f"\n📋 汇总报告预览:")
print(f"  报告生成时间: {summary_report['report_date']}")
print(f"  数据记录总数: {summary_report['total_records']}")
print(f"  总销售量: {summary_report['statistics']['total_sales']:,}")
print(f"  总收入: ${summary_report['statistics']['total_revenue']:,.2f}")
print(f"  最佳销售日: {summary_report['statistics']['best_selling_day']}")

print(f"\n✨ JSON处理演示完成！")# 简单文本可视化
print("📊 文本形式的数据可视化")
print("=" * 50)

# 产品销售量柱状图（文本版）
product_totals = {}
for record in sales_data:
    if record['product'] not in product_totals:
        product_totals[record['product']] = 0
    product_totals[record['product']] += record['sales_count']

print("🏷️ 产品销售量对比:")
max_sales = max(product_totals.values())
for product, total in sorted(product_totals.items(), key=lambda x: x[1], reverse=True):
    # 创建简单的条形图
    bar_length = int((total / max_sales) * 30)  # 最大30个字符
    bar = "█" * bar_length
    print(f"  {product:6} |{bar:<30} {total:4d}")

# 日销售趋势（简化版）
print(f"\n📈 最近10天销售趋势:")
recent_days = list(daily_sales.items())[-10:]
for date, sales in recent_days:
    # 简单的趋势指示
    if sales > statistics.mean(daily_sales.values()):
        trend = "📈"
    else:
        trend = "📉"
    print(f"  {date}: {sales:3d}件 {trend}")

# 销售分布直方图（文本版）
print(f"\n📊 销售量分布:")
sales_ranges = [
    (0, 25, "0-25"),
    (26, 50, "26-50"), 
    (51, 75, "51-75"),
    (76, 100, "76-100")
]

for min_val, max_val, label in sales_ranges:
    count = sum(1 for sales in all_sales if min_val <= sales <= max_val)
    bar = "▓" * (count // 2)  # 每2个记录显示一个方块
    print(f"  {label:8} |{bar} ({count}条记录)")# 数据分析和统计
print("📊 数据统计分析")
print("=" * 50)

# 提取所有销售数量和收入
all_sales = [record['sales_count'] for record in sales_data]
all_revenue = [record['revenue'] for record in sales_data]

# 基本统计信息
print(f"📈 销售数量统计:")
print(f"  总销售量: {sum(all_sales):,}")
print(f"  平均销售量: {statistics.mean(all_sales):.2f}")
print(f"  销售量中位数: {statistics.median(all_sales):.2f}")
print(f"  销售量标准差: {statistics.stdev(all_sales):.2f}")
print(f"  最大销售量: {max(all_sales)}")
print(f"  最小销售量: {min(all_sales)}")

print(f"\n💰 收入统计:")
print(f"  总收入: ${sum(all_revenue):,.2f}")
print(f"  平均收入: ${statistics.mean(all_revenue):,.2f}")
print(f"  收入中位数: ${statistics.median(all_revenue):,.2f}")

# 按产品统计
product_stats = defaultdict(list)
for record in sales_data:
    product_stats[record['product']].append(record['sales_count'])

print(f"\n🏷️ 按产品统计:")
for product, sales_list in product_stats.items():
    total_sales = sum(sales_list)
    avg_sales = statistics.mean(sales_list)
    print(f"  {product}: 总销量={total_sales}, 平均={avg_sales:.1f}")

# 找出最佳销售日
daily_sales = defaultdict(int)
for record in sales_data:
    daily_sales[record['date']] += record['sales_count']

best_day = max(daily_sales.items(), key=lambda x: x[1])
worst_day = min(daily_sales.items(), key=lambda x: x[1])

print(f"\n🏆 销售表现:")
print(f"  最佳销售日: {best_day[0]} ({best_day[1]}件)")
print(f"  最差销售日: {worst_day[0]} ({worst_day[1]}件)")# 生成模拟数据
print("🎲 生成模拟销售数据...")

# 产品列表
products = ['电脑', '手机', '平板', '耳机', '键盘']

# 生成30天的销售数据
sales_data = []
start_date = datetime.now() - timedelta(days=30)

for i in range(30):
    date = start_date + timedelta(days=i)
    for product in products:
        # 生成随机销售数据
        sales_count = random.randint(10, 100)
        price = random.uniform(50, 1000)
        revenue = sales_count * price
        
        sales_data.append({
            'date': date.strftime('%Y-%m-%d'),
            'product': product,
            'sales_count': sales_count,
            'price': round(price, 2),
            'revenue': round(revenue, 2)
        })

print(f"✅ 生成了 {len(sales_data)} 条销售记录")
print(f"📅 日期范围: {sales_data[0]['date']} 到 {sales_data[-1]['date']}")
print(f"🏷️ 产品类型: {', '.join(products)}")

# 显示前5条记录
print("\n📋 前5条记录:")
for i, record in enumerate(sales_data[:5]):
    print(f"{i+1}. {record['date']} - {record['product']}: {record['sales_count']}件, ${record['revenue']:.2f}")# 导入Python标准库
import random
import json
import statistics
from datetime import datetime, timedelta
from collections import defaultdict, Counter

print("📚 Python标准库导入完成！")
print(f"Python版本: {__import__('sys').version}")
print("可用模块: random, json, statistics, datetime, collections")

# 设置随机种子
random.seed(42)
print("🎲 随机种子已设置")# 🐍 Python标准库演示

## 📋 项目说明
这个notebook演示了如何使用Python标准库进行基本的数据处理和分析，不依赖外部包。

## 🎯 演示内容
- 数据生成和处理
- 统计计算
- 简单可视化（文本形式）
- JSON数据处理

---
**环境要求**: 仅需Python标准库